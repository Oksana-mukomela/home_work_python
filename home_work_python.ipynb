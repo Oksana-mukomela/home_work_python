{
 "cells": [
  {
   "cell_type": "code",
   "execution_count": 3,
   "id": "835c33eb-0609-4ddf-8d42-2d0952bda04d",
   "metadata": {},
   "outputs": [],
   "source": [
    "import sys"
   ]
  },
  {
   "cell_type": "code",
   "execution_count": 4,
   "id": "b4c50143-44b1-49ba-a885-dd3ea0fa7e12",
   "metadata": {},
   "outputs": [
    {
     "data": {
      "text/plain": [
       "'3.12.4 | packaged by Anaconda, Inc. | (main, Jun 18 2024, 15:03:56) [MSC v.1929 64 bit (AMD64)]'"
      ]
     },
     "execution_count": 4,
     "metadata": {},
     "output_type": "execute_result"
    }
   ],
   "source": [
    "sys.version "
   ]
  },
  {
   "cell_type": "code",
   "execution_count": 6,
   "id": "0910ccab-783b-46d1-91e0-401fccd6f343",
   "metadata": {},
   "outputs": [
    {
     "data": {
      "text/plain": [
       "3"
      ]
     },
     "execution_count": 6,
     "metadata": {},
     "output_type": "execute_result"
    }
   ],
   "source": [
    "1+2"
   ]
  },
  {
   "cell_type": "code",
   "execution_count": 7,
   "id": "0f53614c-b721-46cb-9a6d-2f070a39ae69",
   "metadata": {},
   "outputs": [
    {
     "data": {
      "text/plain": [
       "16"
      ]
     },
     "execution_count": 7,
     "metadata": {},
     "output_type": "execute_result"
    }
   ],
   "source": [
    "2*3+10"
   ]
  },
  {
   "cell_type": "code",
   "execution_count": 8,
   "id": "11dad759-21c1-48b1-8456-f3ee9cca90dc",
   "metadata": {},
   "outputs": [
    {
     "data": {
      "text/plain": [
       "28.0"
      ]
     },
     "execution_count": 8,
     "metadata": {},
     "output_type": "execute_result"
    }
   ],
   "source": [
    "(10*5)/2+3"
   ]
  },
  {
   "cell_type": "code",
   "execution_count": 14,
   "id": "8fac2b0d-461d-48f4-a959-7a979ab6941e",
   "metadata": {},
   "outputs": [],
   "source": [
    "name = \"Oksana\"\n",
    "age = 35\n",
    "height = 1.76\n",
    "is_ukrainian = True"
   ]
  },
  {
   "cell_type": "code",
   "execution_count": 15,
   "id": "dc60f9d8-5844-466d-9e0c-c63da469c723",
   "metadata": {},
   "outputs": [
    {
     "data": {
      "text/plain": [
       "'Oksana'"
      ]
     },
     "execution_count": 15,
     "metadata": {},
     "output_type": "execute_result"
    }
   ],
   "source": [
    "name"
   ]
  },
  {
   "cell_type": "code",
   "execution_count": 16,
   "id": "6251bea8-5176-4a44-a19a-28d449bf3946",
   "metadata": {},
   "outputs": [
    {
     "data": {
      "text/plain": [
       "1.76"
      ]
     },
     "execution_count": 16,
     "metadata": {},
     "output_type": "execute_result"
    }
   ],
   "source": [
    "height"
   ]
  },
  {
   "cell_type": "code",
   "execution_count": 17,
   "id": "48d1a181-b799-4465-90d3-b546548a0535",
   "metadata": {},
   "outputs": [
    {
     "data": {
      "text/plain": [
       "str"
      ]
     },
     "execution_count": 17,
     "metadata": {},
     "output_type": "execute_result"
    }
   ],
   "source": [
    "type (name)"
   ]
  },
  {
   "cell_type": "code",
   "execution_count": 18,
   "id": "a60df0d5-44a7-495c-b6d4-bed5b21b2edc",
   "metadata": {},
   "outputs": [
    {
     "data": {
      "text/plain": [
       "(str, int, bool)"
      ]
     },
     "execution_count": 18,
     "metadata": {},
     "output_type": "execute_result"
    }
   ],
   "source": [
    "type (name), type (age), type (is_ukrainian)"
   ]
  },
  {
   "cell_type": "code",
   "execution_count": 20,
   "id": "c2173b88-1581-4228-8c9b-d4ebb469d6d4",
   "metadata": {},
   "outputs": [
    {
     "name": "stdout",
     "output_type": "stream",
     "text": [
      "<class 'str'> <class 'int'> <class 'bool'>\n"
     ]
    }
   ],
   "source": [
    "print (type (name), type (age), type (is_ukrainian))"
   ]
  },
  {
   "cell_type": "code",
   "execution_count": 21,
   "id": "657a765f-313b-489e-9599-6873f49f034b",
   "metadata": {},
   "outputs": [
    {
     "data": {
      "text/plain": [
       "str"
      ]
     },
     "metadata": {},
     "output_type": "display_data"
    },
    {
     "data": {
      "text/plain": [
       "int"
      ]
     },
     "metadata": {},
     "output_type": "display_data"
    },
    {
     "data": {
      "text/plain": [
       "bool"
      ]
     },
     "metadata": {},
     "output_type": "display_data"
    }
   ],
   "source": [
    "display (type (name), type (age), type (is_ukrainian))"
   ]
  },
  {
   "cell_type": "code",
   "execution_count": 25,
   "id": "7e01bfaa-a1d7-416a-a65e-2c081a7d53e9",
   "metadata": {},
   "outputs": [
    {
     "name": "stdout",
     "output_type": "stream",
     "text": [
      "Oksana is 35 years old\n"
     ]
    }
   ],
   "source": [
    "print (name, \"is\", age, \"years old\")"
   ]
  },
  {
   "cell_type": "code",
   "execution_count": 26,
   "id": "1409ba0c-b8c2-4369-8cdc-69177c7602d8",
   "metadata": {},
   "outputs": [],
   "source": [
    "age = age+1"
   ]
  },
  {
   "cell_type": "code",
   "execution_count": 28,
   "id": "347a6847-dac0-431d-a784-58be9dabf4e6",
   "metadata": {},
   "outputs": [
    {
     "data": {
      "text/plain": [
       "36"
      ]
     },
     "execution_count": 28,
     "metadata": {},
     "output_type": "execute_result"
    }
   ],
   "source": [
    "age"
   ]
  },
  {
   "cell_type": "code",
   "execution_count": 32,
   "id": "f6b82a4c-168a-4656-8f6b-ed3093490b30",
   "metadata": {},
   "outputs": [
    {
     "name": "stdout",
     "output_type": "stream",
     "text": [
      "Happy birthday! Oksana is 36 years old\n"
     ]
    }
   ],
   "source": [
    "print (\"Happy birthday!\", name, \"is\", age, \"years old\")"
   ]
  },
  {
   "cell_type": "code",
   "execution_count": 35,
   "id": "bb21ed8a-637f-4ce1-8c00-734066f4b9d1",
   "metadata": {},
   "outputs": [],
   "source": [
    "variable=16"
   ]
  },
  {
   "cell_type": "code",
   "execution_count": 36,
   "id": "716a234d-4656-4f3f-b42f-8584b6230892",
   "metadata": {},
   "outputs": [
    {
     "data": {
      "text/plain": [
       "16"
      ]
     },
     "execution_count": 36,
     "metadata": {},
     "output_type": "execute_result"
    }
   ],
   "source": [
    "variable"
   ]
  },
  {
   "cell_type": "code",
   "execution_count": 37,
   "id": "d598bbdd-b203-432b-96ab-5852e18d2c35",
   "metadata": {},
   "outputs": [],
   "source": [
    "my_variable = 10\n",
    "variabel = \"Hello world!\"\n",
    "_variabel = 3.1459\n",
    "name_with_underscores = \"Python\"\n",
    "STUDENT_NAME = \"Anna\""
   ]
  },
  {
   "cell_type": "code",
   "execution_count": 38,
   "id": "12ea71c5-3cc9-459d-9988-11d95cc8e4ce",
   "metadata": {},
   "outputs": [
    {
     "data": {
      "text/plain": [
       "(10, 16, 'Python', 'Anna')"
      ]
     },
     "execution_count": 38,
     "metadata": {},
     "output_type": "execute_result"
    }
   ],
   "source": [
    "my_variable, variable, name_with_underscores, STUDENT_NAME"
   ]
  },
  {
   "cell_type": "code",
   "execution_count": 39,
   "id": "5ccdf708-5226-4cbf-a08d-838e64991d54",
   "metadata": {},
   "outputs": [],
   "source": [
    "t = 19\n",
    "# ...\n",
    "# t = celsium_to_fahrenheit (t)\n",
    "temp_cels = 19\n",
    "# ...\n",
    "# temp_cels = celsium_to_fahrenheit (temp_cels) "
   ]
  },
  {
   "cell_type": "code",
   "execution_count": 47,
   "id": "5460114d-669f-4f13-8e3a-b0c1cb1fe589",
   "metadata": {},
   "outputs": [
    {
     "data": {
      "text/plain": [
       "(1, 10)"
      ]
     },
     "execution_count": 47,
     "metadata": {},
     "output_type": "execute_result"
    }
   ],
   "source": [
    "a = 1\n",
    "# b = 2 #\n",
    "# a = a + b\n",
    "# a = a + 1\n",
    "b = 10 \n",
    "a, b"
   ]
  },
  {
   "cell_type": "code",
   "execution_count": null,
   "id": "953109ed-ad62-4552-99bb-0029713b25b7",
   "metadata": {},
   "outputs": [],
   "source": []
  }
 ],
 "metadata": {
  "kernelspec": {
   "display_name": "Python 3 (ipykernel)",
   "language": "python",
   "name": "python3"
  },
  "language_info": {
   "codemirror_mode": {
    "name": "ipython",
    "version": 3
   },
   "file_extension": ".py",
   "mimetype": "text/x-python",
   "name": "python",
   "nbconvert_exporter": "python",
   "pygments_lexer": "ipython3",
   "version": "3.12.4"
  }
 },
 "nbformat": 4,
 "nbformat_minor": 5
}
